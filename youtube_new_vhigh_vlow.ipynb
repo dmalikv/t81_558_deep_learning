{
  "cells": [
    {
      "cell_type": "markdown",
      "metadata": {
        "id": "view-in-github",
        "colab_type": "text"
      },
      "source": [
        "<a href=\"https://colab.research.google.com/github/dmalikv/t81_558_deep_learning/blob/master/youtube_new_vhigh_vlow.ipynb\" target=\"_parent\"><img src=\"https://colab.research.google.com/assets/colab-badge.svg\" alt=\"Open In Colab\"/></a>"
      ]
    },
    {
      "cell_type": "code",
      "execution_count": null,
      "metadata": {
        "id": "TGbMym8yTzvP"
      },
      "outputs": [],
      "source": [
        "from google.colab import drive\n",
        "drive.mount('/content/drive/')"
      ]
    },
    {
      "cell_type": "code",
      "execution_count": null,
      "metadata": {
        "id": "XnmWWh57T0m_"
      },
      "outputs": [],
      "source": [
        "!unzip \"/content/drive/MyDrive//youtube.zip\" "
      ]
    },
    {
      "cell_type": "code",
      "execution_count": null,
      "metadata": {
        "id": "mMw7hQitUHiR"
      },
      "outputs": [],
      "source": [
        "#import required libraries\n",
        "import numpy as np\n",
        "import pandas as pd\n",
        "import os\n",
        "from re import search\n",
        "import shutil\n",
        "import natsort\n",
        "from PIL import Image\n",
        "import matplotlib.pyplot as plt\n",
        "import seaborn as sns\n",
        "from tqdm import tqdm\n",
        "import cv2"
      ]
    },
    {
      "cell_type": "code",
      "execution_count": null,
      "metadata": {
        "id": "_4L7uwxyUuXN"
      },
      "outputs": [],
      "source": [
        "data = pd.read_csv(\"/content/Youtube_science_channels_dataset/Youtube_science_channels_dataset.csv\")"
      ]
    },
    {
      "cell_type": "code",
      "execution_count": null,
      "metadata": {
        "colab": {
          "base_uri": "https://localhost:8080/",
          "height": 1000
        },
        "id": "qwvS39Crqp4f",
        "outputId": "8c2c5b21-c83c-4ed0-a13e-208b1d4b2874"
      },
      "outputs": [
        {
          "output_type": "execute_result",
          "data": {
            "text/plain": [
              "          id_video                                              title  \\\n",
              "9492   --Dby9AZPQY  DevOps Metrics | DevOps Dashboard | DevOps Tut...   \n",
              "9856   -01QoivuCF0  CISA Certification Training By Simplilearn | L...   \n",
              "5299   -0SKDXwHKkA                    Working at CERN - Sixty Symbols   \n",
              "16310  -0lIPWuuTW8  Extracting Cyanide From Apple Seeds With Hydra...   \n",
              "10592  -1DYtX91oJA  IT Service Management Certification Course | I...   \n",
              "...            ...                                                ...   \n",
              "17864  zzKGnuvX6IQ               The Most Powerful Dice - Numberphile   \n",
              "8614   zzWlv0a-5UY  How To Increase Youtube Subscribers Fast | How...   \n",
              "1508   zzeMkfViSYY  The Unique Reason Reindeer Change Their Eye Color   \n",
              "14261  zzn3xDiw1iE  Testing Your Product and Getting Feedback: Cra...   \n",
              "12724  zzu2POfYv0Y                Logarithms, Explained - Steve Kelly   \n",
              "\n",
              "                     channel_id    channel_name            published_video  \\\n",
              "9492   UCsvqVGtbbyHaMoevxPAq9Fg     Simplilearn  2017-10-23 14:30:00+00:00   \n",
              "9856   UCsvqVGtbbyHaMoevxPAq9Fg     Simplilearn  2016-06-14 06:50:03+00:00   \n",
              "5299   UCvBqzzvUBLCs8Y7Axb-jZew   Sixty Symbols  2013-02-05 13:23:50+00:00   \n",
              "16310  UC1VLQPn9cYSqx8plbk9RxxQ  The Action Lab  2016-12-21 17:16:20+00:00   \n",
              "10592  UCsvqVGtbbyHaMoevxPAq9Fg     Simplilearn  2012-09-15 05:11:30+00:00   \n",
              "...                         ...             ...                        ...   \n",
              "17864  UCoxcjq-8xIDTYp3uz647V5A     Numberphile  2016-09-20 08:58:44+00:00   \n",
              "8614   UCsvqVGtbbyHaMoevxPAq9Fg     Simplilearn  2020-10-02 15:30:09+00:00   \n",
              "1508   UCZYTClx2T1of7BRZ86-8fow         SciShow  2018-05-22 21:00:03+00:00   \n",
              "14261  UCX6b17PVsYBQ0ip5gyeme-Q     CrashCourse  2019-09-25 21:30:01+00:00   \n",
              "12724  UCsooa4yRKGN_zEE8iknghZA          TED-Ed  2012-08-20 15:32:58+00:00   \n",
              "\n",
              "       like_count  dislike_count  view_count_video  published_mth  title_len  \\\n",
              "9492         40.0            2.0            8574.0             52         97   \n",
              "9856         33.0            5.0            9585.0             68         63   \n",
              "5299       2088.0           31.0          105502.0            108         31   \n",
              "16310     25014.0         2530.0         2538325.0             62         56   \n",
              "10592         6.0            2.0            4699.0            113         65   \n",
              "...           ...            ...               ...            ...        ...   \n",
              "17864     21501.0          119.0          573911.0             65         36   \n",
              "8614        109.0            9.0            3826.0             16         97   \n",
              "1508       5510.0          228.0          152350.0             45         49   \n",
              "14261      1578.0           43.0           64969.0             29         84   \n",
              "12724     16097.0          684.0          889975.0            114         35   \n",
              "\n",
              "                     id_channel  view_count_channel  \\\n",
              "9492   UCsvqVGtbbyHaMoevxPAq9Fg            89178505   \n",
              "9856   UCsvqVGtbbyHaMoevxPAq9Fg            89178505   \n",
              "5299   UCvBqzzvUBLCs8Y7Axb-jZew            94574062   \n",
              "16310  UC1VLQPn9cYSqx8plbk9RxxQ           727274461   \n",
              "10592  UCsvqVGtbbyHaMoevxPAq9Fg            89178505   \n",
              "...                         ...                 ...   \n",
              "17864  UCoxcjq-8xIDTYp3uz647V5A           589894242   \n",
              "8614   UCsvqVGtbbyHaMoevxPAq9Fg            89178505   \n",
              "1508   UCZYTClx2T1of7BRZ86-8fow          1427641483   \n",
              "14261  UCX6b17PVsYBQ0ip5gyeme-Q          1546387741   \n",
              "12724  UCsooa4yRKGN_zEE8iknghZA          2638922420   \n",
              "\n",
              "               published_channel  age_mth  subscriber_count  video_count  \\\n",
              "9492   2009-10-29 07:21:23+00:00      148         1320000.0         3011   \n",
              "9856   2009-10-29 07:21:23+00:00      148         1320000.0         3011   \n",
              "5299   2009-02-13 11:41:33+00:00      156          840000.0          367   \n",
              "16310  2016-05-12 08:18:01+00:00       69         3580000.0          672   \n",
              "10592  2009-10-29 07:21:23+00:00      148         1320000.0         3011   \n",
              "...                          ...      ...               ...          ...   \n",
              "17864  2011-09-15 12:45:01+00:00      125         3890000.0          614   \n",
              "8614   2009-10-29 07:21:23+00:00      148         1320000.0         3011   \n",
              "1508   2011-10-20 16:11:13+00:00      124         6760000.0         2756   \n",
              "14261  2006-05-20 02:43:42+00:00      189        12700000.0         1334   \n",
              "12724  2011-03-01 20:33:10+00:00      131        14700000.0         1853   \n",
              "\n",
              "       ln_vc_norm        qtl  \n",
              "9492    -5.036653   very low  \n",
              "9856    -4.925188   very low  \n",
              "5299    -2.074672       high  \n",
              "16310   -0.343858  very high  \n",
              "10592   -5.638037   very low  \n",
              "...           ...        ...  \n",
              "17864   -1.913690       high  \n",
              "8614    -5.843567   very low  \n",
              "1508    -3.792598        low  \n",
              "14261   -5.275447   very low  \n",
              "12724   -2.804409        low  \n",
              "\n",
              "[19311 rows x 18 columns]"
            ],
            "text/html": [
              "\n",
              "  <div id=\"df-44052ac5-adf3-4400-a37f-ea137ac4aacc\">\n",
              "    <div class=\"colab-df-container\">\n",
              "      <div>\n",
              "<style scoped>\n",
              "    .dataframe tbody tr th:only-of-type {\n",
              "        vertical-align: middle;\n",
              "    }\n",
              "\n",
              "    .dataframe tbody tr th {\n",
              "        vertical-align: top;\n",
              "    }\n",
              "\n",
              "    .dataframe thead th {\n",
              "        text-align: right;\n",
              "    }\n",
              "</style>\n",
              "<table border=\"1\" class=\"dataframe\">\n",
              "  <thead>\n",
              "    <tr style=\"text-align: right;\">\n",
              "      <th></th>\n",
              "      <th>id_video</th>\n",
              "      <th>title</th>\n",
              "      <th>channel_id</th>\n",
              "      <th>channel_name</th>\n",
              "      <th>published_video</th>\n",
              "      <th>like_count</th>\n",
              "      <th>dislike_count</th>\n",
              "      <th>view_count_video</th>\n",
              "      <th>published_mth</th>\n",
              "      <th>title_len</th>\n",
              "      <th>id_channel</th>\n",
              "      <th>view_count_channel</th>\n",
              "      <th>published_channel</th>\n",
              "      <th>age_mth</th>\n",
              "      <th>subscriber_count</th>\n",
              "      <th>video_count</th>\n",
              "      <th>ln_vc_norm</th>\n",
              "      <th>qtl</th>\n",
              "    </tr>\n",
              "  </thead>\n",
              "  <tbody>\n",
              "    <tr>\n",
              "      <th>9492</th>\n",
              "      <td>--Dby9AZPQY</td>\n",
              "      <td>DevOps Metrics | DevOps Dashboard | DevOps Tut...</td>\n",
              "      <td>UCsvqVGtbbyHaMoevxPAq9Fg</td>\n",
              "      <td>Simplilearn</td>\n",
              "      <td>2017-10-23 14:30:00+00:00</td>\n",
              "      <td>40.0</td>\n",
              "      <td>2.0</td>\n",
              "      <td>8574.0</td>\n",
              "      <td>52</td>\n",
              "      <td>97</td>\n",
              "      <td>UCsvqVGtbbyHaMoevxPAq9Fg</td>\n",
              "      <td>89178505</td>\n",
              "      <td>2009-10-29 07:21:23+00:00</td>\n",
              "      <td>148</td>\n",
              "      <td>1320000.0</td>\n",
              "      <td>3011</td>\n",
              "      <td>-5.036653</td>\n",
              "      <td>very low</td>\n",
              "    </tr>\n",
              "    <tr>\n",
              "      <th>9856</th>\n",
              "      <td>-01QoivuCF0</td>\n",
              "      <td>CISA Certification Training By Simplilearn | L...</td>\n",
              "      <td>UCsvqVGtbbyHaMoevxPAq9Fg</td>\n",
              "      <td>Simplilearn</td>\n",
              "      <td>2016-06-14 06:50:03+00:00</td>\n",
              "      <td>33.0</td>\n",
              "      <td>5.0</td>\n",
              "      <td>9585.0</td>\n",
              "      <td>68</td>\n",
              "      <td>63</td>\n",
              "      <td>UCsvqVGtbbyHaMoevxPAq9Fg</td>\n",
              "      <td>89178505</td>\n",
              "      <td>2009-10-29 07:21:23+00:00</td>\n",
              "      <td>148</td>\n",
              "      <td>1320000.0</td>\n",
              "      <td>3011</td>\n",
              "      <td>-4.925188</td>\n",
              "      <td>very low</td>\n",
              "    </tr>\n",
              "    <tr>\n",
              "      <th>5299</th>\n",
              "      <td>-0SKDXwHKkA</td>\n",
              "      <td>Working at CERN - Sixty Symbols</td>\n",
              "      <td>UCvBqzzvUBLCs8Y7Axb-jZew</td>\n",
              "      <td>Sixty Symbols</td>\n",
              "      <td>2013-02-05 13:23:50+00:00</td>\n",
              "      <td>2088.0</td>\n",
              "      <td>31.0</td>\n",
              "      <td>105502.0</td>\n",
              "      <td>108</td>\n",
              "      <td>31</td>\n",
              "      <td>UCvBqzzvUBLCs8Y7Axb-jZew</td>\n",
              "      <td>94574062</td>\n",
              "      <td>2009-02-13 11:41:33+00:00</td>\n",
              "      <td>156</td>\n",
              "      <td>840000.0</td>\n",
              "      <td>367</td>\n",
              "      <td>-2.074672</td>\n",
              "      <td>high</td>\n",
              "    </tr>\n",
              "    <tr>\n",
              "      <th>16310</th>\n",
              "      <td>-0lIPWuuTW8</td>\n",
              "      <td>Extracting Cyanide From Apple Seeds With Hydra...</td>\n",
              "      <td>UC1VLQPn9cYSqx8plbk9RxxQ</td>\n",
              "      <td>The Action Lab</td>\n",
              "      <td>2016-12-21 17:16:20+00:00</td>\n",
              "      <td>25014.0</td>\n",
              "      <td>2530.0</td>\n",
              "      <td>2538325.0</td>\n",
              "      <td>62</td>\n",
              "      <td>56</td>\n",
              "      <td>UC1VLQPn9cYSqx8plbk9RxxQ</td>\n",
              "      <td>727274461</td>\n",
              "      <td>2016-05-12 08:18:01+00:00</td>\n",
              "      <td>69</td>\n",
              "      <td>3580000.0</td>\n",
              "      <td>672</td>\n",
              "      <td>-0.343858</td>\n",
              "      <td>very high</td>\n",
              "    </tr>\n",
              "    <tr>\n",
              "      <th>10592</th>\n",
              "      <td>-1DYtX91oJA</td>\n",
              "      <td>IT Service Management Certification Course | I...</td>\n",
              "      <td>UCsvqVGtbbyHaMoevxPAq9Fg</td>\n",
              "      <td>Simplilearn</td>\n",
              "      <td>2012-09-15 05:11:30+00:00</td>\n",
              "      <td>6.0</td>\n",
              "      <td>2.0</td>\n",
              "      <td>4699.0</td>\n",
              "      <td>113</td>\n",
              "      <td>65</td>\n",
              "      <td>UCsvqVGtbbyHaMoevxPAq9Fg</td>\n",
              "      <td>89178505</td>\n",
              "      <td>2009-10-29 07:21:23+00:00</td>\n",
              "      <td>148</td>\n",
              "      <td>1320000.0</td>\n",
              "      <td>3011</td>\n",
              "      <td>-5.638037</td>\n",
              "      <td>very low</td>\n",
              "    </tr>\n",
              "    <tr>\n",
              "      <th>...</th>\n",
              "      <td>...</td>\n",
              "      <td>...</td>\n",
              "      <td>...</td>\n",
              "      <td>...</td>\n",
              "      <td>...</td>\n",
              "      <td>...</td>\n",
              "      <td>...</td>\n",
              "      <td>...</td>\n",
              "      <td>...</td>\n",
              "      <td>...</td>\n",
              "      <td>...</td>\n",
              "      <td>...</td>\n",
              "      <td>...</td>\n",
              "      <td>...</td>\n",
              "      <td>...</td>\n",
              "      <td>...</td>\n",
              "      <td>...</td>\n",
              "      <td>...</td>\n",
              "    </tr>\n",
              "    <tr>\n",
              "      <th>17864</th>\n",
              "      <td>zzKGnuvX6IQ</td>\n",
              "      <td>The Most Powerful Dice - Numberphile</td>\n",
              "      <td>UCoxcjq-8xIDTYp3uz647V5A</td>\n",
              "      <td>Numberphile</td>\n",
              "      <td>2016-09-20 08:58:44+00:00</td>\n",
              "      <td>21501.0</td>\n",
              "      <td>119.0</td>\n",
              "      <td>573911.0</td>\n",
              "      <td>65</td>\n",
              "      <td>36</td>\n",
              "      <td>UCoxcjq-8xIDTYp3uz647V5A</td>\n",
              "      <td>589894242</td>\n",
              "      <td>2011-09-15 12:45:01+00:00</td>\n",
              "      <td>125</td>\n",
              "      <td>3890000.0</td>\n",
              "      <td>614</td>\n",
              "      <td>-1.913690</td>\n",
              "      <td>high</td>\n",
              "    </tr>\n",
              "    <tr>\n",
              "      <th>8614</th>\n",
              "      <td>zzWlv0a-5UY</td>\n",
              "      <td>How To Increase Youtube Subscribers Fast | How...</td>\n",
              "      <td>UCsvqVGtbbyHaMoevxPAq9Fg</td>\n",
              "      <td>Simplilearn</td>\n",
              "      <td>2020-10-02 15:30:09+00:00</td>\n",
              "      <td>109.0</td>\n",
              "      <td>9.0</td>\n",
              "      <td>3826.0</td>\n",
              "      <td>16</td>\n",
              "      <td>97</td>\n",
              "      <td>UCsvqVGtbbyHaMoevxPAq9Fg</td>\n",
              "      <td>89178505</td>\n",
              "      <td>2009-10-29 07:21:23+00:00</td>\n",
              "      <td>148</td>\n",
              "      <td>1320000.0</td>\n",
              "      <td>3011</td>\n",
              "      <td>-5.843567</td>\n",
              "      <td>very low</td>\n",
              "    </tr>\n",
              "    <tr>\n",
              "      <th>1508</th>\n",
              "      <td>zzeMkfViSYY</td>\n",
              "      <td>The Unique Reason Reindeer Change Their Eye Color</td>\n",
              "      <td>UCZYTClx2T1of7BRZ86-8fow</td>\n",
              "      <td>SciShow</td>\n",
              "      <td>2018-05-22 21:00:03+00:00</td>\n",
              "      <td>5510.0</td>\n",
              "      <td>228.0</td>\n",
              "      <td>152350.0</td>\n",
              "      <td>45</td>\n",
              "      <td>49</td>\n",
              "      <td>UCZYTClx2T1of7BRZ86-8fow</td>\n",
              "      <td>1427641483</td>\n",
              "      <td>2011-10-20 16:11:13+00:00</td>\n",
              "      <td>124</td>\n",
              "      <td>6760000.0</td>\n",
              "      <td>2756</td>\n",
              "      <td>-3.792598</td>\n",
              "      <td>low</td>\n",
              "    </tr>\n",
              "    <tr>\n",
              "      <th>14261</th>\n",
              "      <td>zzn3xDiw1iE</td>\n",
              "      <td>Testing Your Product and Getting Feedback: Cra...</td>\n",
              "      <td>UCX6b17PVsYBQ0ip5gyeme-Q</td>\n",
              "      <td>CrashCourse</td>\n",
              "      <td>2019-09-25 21:30:01+00:00</td>\n",
              "      <td>1578.0</td>\n",
              "      <td>43.0</td>\n",
              "      <td>64969.0</td>\n",
              "      <td>29</td>\n",
              "      <td>84</td>\n",
              "      <td>UCX6b17PVsYBQ0ip5gyeme-Q</td>\n",
              "      <td>1546387741</td>\n",
              "      <td>2006-05-20 02:43:42+00:00</td>\n",
              "      <td>189</td>\n",
              "      <td>12700000.0</td>\n",
              "      <td>1334</td>\n",
              "      <td>-5.275447</td>\n",
              "      <td>very low</td>\n",
              "    </tr>\n",
              "    <tr>\n",
              "      <th>12724</th>\n",
              "      <td>zzu2POfYv0Y</td>\n",
              "      <td>Logarithms, Explained - Steve Kelly</td>\n",
              "      <td>UCsooa4yRKGN_zEE8iknghZA</td>\n",
              "      <td>TED-Ed</td>\n",
              "      <td>2012-08-20 15:32:58+00:00</td>\n",
              "      <td>16097.0</td>\n",
              "      <td>684.0</td>\n",
              "      <td>889975.0</td>\n",
              "      <td>114</td>\n",
              "      <td>35</td>\n",
              "      <td>UCsooa4yRKGN_zEE8iknghZA</td>\n",
              "      <td>2638922420</td>\n",
              "      <td>2011-03-01 20:33:10+00:00</td>\n",
              "      <td>131</td>\n",
              "      <td>14700000.0</td>\n",
              "      <td>1853</td>\n",
              "      <td>-2.804409</td>\n",
              "      <td>low</td>\n",
              "    </tr>\n",
              "  </tbody>\n",
              "</table>\n",
              "<p>19311 rows × 18 columns</p>\n",
              "</div>\n",
              "      <button class=\"colab-df-convert\" onclick=\"convertToInteractive('df-44052ac5-adf3-4400-a37f-ea137ac4aacc')\"\n",
              "              title=\"Convert this dataframe to an interactive table.\"\n",
              "              style=\"display:none;\">\n",
              "        \n",
              "  <svg xmlns=\"http://www.w3.org/2000/svg\" height=\"24px\"viewBox=\"0 0 24 24\"\n",
              "       width=\"24px\">\n",
              "    <path d=\"M0 0h24v24H0V0z\" fill=\"none\"/>\n",
              "    <path d=\"M18.56 5.44l.94 2.06.94-2.06 2.06-.94-2.06-.94-.94-2.06-.94 2.06-2.06.94zm-11 1L8.5 8.5l.94-2.06 2.06-.94-2.06-.94L8.5 2.5l-.94 2.06-2.06.94zm10 10l.94 2.06.94-2.06 2.06-.94-2.06-.94-.94-2.06-.94 2.06-2.06.94z\"/><path d=\"M17.41 7.96l-1.37-1.37c-.4-.4-.92-.59-1.43-.59-.52 0-1.04.2-1.43.59L10.3 9.45l-7.72 7.72c-.78.78-.78 2.05 0 2.83L4 21.41c.39.39.9.59 1.41.59.51 0 1.02-.2 1.41-.59l7.78-7.78 2.81-2.81c.8-.78.8-2.07 0-2.86zM5.41 20L4 18.59l7.72-7.72 1.47 1.35L5.41 20z\"/>\n",
              "  </svg>\n",
              "      </button>\n",
              "      \n",
              "  <style>\n",
              "    .colab-df-container {\n",
              "      display:flex;\n",
              "      flex-wrap:wrap;\n",
              "      gap: 12px;\n",
              "    }\n",
              "\n",
              "    .colab-df-convert {\n",
              "      background-color: #E8F0FE;\n",
              "      border: none;\n",
              "      border-radius: 50%;\n",
              "      cursor: pointer;\n",
              "      display: none;\n",
              "      fill: #1967D2;\n",
              "      height: 32px;\n",
              "      padding: 0 0 0 0;\n",
              "      width: 32px;\n",
              "    }\n",
              "\n",
              "    .colab-df-convert:hover {\n",
              "      background-color: #E2EBFA;\n",
              "      box-shadow: 0px 1px 2px rgba(60, 64, 67, 0.3), 0px 1px 3px 1px rgba(60, 64, 67, 0.15);\n",
              "      fill: #174EA6;\n",
              "    }\n",
              "\n",
              "    [theme=dark] .colab-df-convert {\n",
              "      background-color: #3B4455;\n",
              "      fill: #D2E3FC;\n",
              "    }\n",
              "\n",
              "    [theme=dark] .colab-df-convert:hover {\n",
              "      background-color: #434B5C;\n",
              "      box-shadow: 0px 1px 3px 1px rgba(0, 0, 0, 0.15);\n",
              "      filter: drop-shadow(0px 1px 2px rgba(0, 0, 0, 0.3));\n",
              "      fill: #FFFFFF;\n",
              "    }\n",
              "  </style>\n",
              "\n",
              "      <script>\n",
              "        const buttonEl =\n",
              "          document.querySelector('#df-44052ac5-adf3-4400-a37f-ea137ac4aacc button.colab-df-convert');\n",
              "        buttonEl.style.display =\n",
              "          google.colab.kernel.accessAllowed ? 'block' : 'none';\n",
              "\n",
              "        async function convertToInteractive(key) {\n",
              "          const element = document.querySelector('#df-44052ac5-adf3-4400-a37f-ea137ac4aacc');\n",
              "          const dataTable =\n",
              "            await google.colab.kernel.invokeFunction('convertToInteractive',\n",
              "                                                     [key], {});\n",
              "          if (!dataTable) return;\n",
              "\n",
              "          const docLinkHtml = 'Like what you see? Visit the ' +\n",
              "            '<a target=\"_blank\" href=https://colab.research.google.com/notebooks/data_table.ipynb>data table notebook</a>'\n",
              "            + ' to learn more about interactive tables.';\n",
              "          element.innerHTML = '';\n",
              "          dataTable['output_type'] = 'display_data';\n",
              "          await google.colab.output.renderOutput(dataTable, element);\n",
              "          const docLink = document.createElement('div');\n",
              "          docLink.innerHTML = docLinkHtml;\n",
              "          element.appendChild(docLink);\n",
              "        }\n",
              "      </script>\n",
              "    </div>\n",
              "  </div>\n",
              "  "
            ]
          },
          "metadata": {},
          "execution_count": 48
        }
      ],
      "source": [
        "data.sort_values(by=\"id_video\")"
      ]
    },
    {
      "cell_type": "code",
      "execution_count": null,
      "metadata": {
        "colab": {
          "base_uri": "https://localhost:8080/"
        },
        "id": "sZiNh5m4mHtI",
        "outputId": "2b200846-18f5-46e7-b3b7-277c2cbea3b6"
      },
      "outputs": [
        {
          "output_type": "execute_result",
          "data": {
            "text/plain": [
              "id_video              0\n",
              "title                 2\n",
              "channel_id            0\n",
              "channel_name          0\n",
              "published_video       0\n",
              "like_count            0\n",
              "dislike_count         0\n",
              "view_count_video      0\n",
              "published_mth         0\n",
              "title_len             0\n",
              "id_channel            0\n",
              "view_count_channel    0\n",
              "published_channel     0\n",
              "age_mth               0\n",
              "subscriber_count      0\n",
              "video_count           0\n",
              "ln_vc_norm            0\n",
              "qtl                   0\n",
              "dtype: int64"
            ]
          },
          "metadata": {},
          "execution_count": 49
        }
      ],
      "source": [
        "data.isnull().sum()"
      ]
    },
    {
      "cell_type": "code",
      "execution_count": null,
      "metadata": {
        "colab": {
          "base_uri": "https://localhost:8080/",
          "height": 540
        },
        "id": "ya7d1-R2kjiN",
        "outputId": "da57ad08-d80a-4244-e20d-b02b82804ea4"
      },
      "outputs": [
        {
          "output_type": "execute_result",
          "data": {
            "text/plain": [
              "<Axes: >"
            ]
          },
          "metadata": {},
          "execution_count": 50
        },
        {
          "output_type": "display_data",
          "data": {
            "text/plain": [
              "<Figure size 864x504 with 2 Axes>"
            ],
            "image/png": "[encoded data removed]"
          },
          "metadata": {
            "needs_background": "light"
          }
        }
      ],
      "source": [
        "plt.figure(figsize=(12,7))\n",
        "sns.heatmap(data.corr(),annot=True,cmap=\"YlGnBu\")"
      ]
    },
    {
      "cell_type": "code",
      "execution_count": null,
      "metadata": {
        "id": "0MCgl1753Z_3"
      },
      "outputs": [],
      "source": [
        "from sklearn.model_selection import train_test_split"
      ]
    },
    {
      "cell_type": "code",
      "execution_count": null,
      "metadata": {
        "id": "J_XesUd24MMa"
      },
      "outputs": [],
      "source": [
        "X = data[[\"id_video\"]]\n",
        "y = data[[\"qtl\"]]"
      ]
    },
    {
      "cell_type": "code",
      "execution_count": null,
      "metadata": {
        "id": "lo-mRaEN3_Ep"
      },
      "outputs": [],
      "source": [
        "X_train,X_test,y_train,y_test = train_test_split(X,y,train_size=0.8)"
      ]
    },
    {
      "cell_type": "code",
      "execution_count": null,
      "metadata": {
        "id": "BQzrTYa-67Z4"
      },
      "outputs": [],
      "source": [
        "all_images = sorted(os.listdir(\"/content/Youtube_science_channels_dataset/images\"))"
      ]
    },
    {
      "cell_type": "code",
      "execution_count": null,
      "metadata": {
        "colab": {
          "base_uri": "https://localhost:8080/",
          "height": 235
        },
        "id": "yUCt5Z6p4flZ",
        "outputId": "03a4fb5c-654e-4a60-b48b-54aac1bd5549"
      },
      "outputs": [
        {
          "output_type": "error",
          "ename": "FileExistsError",
          "evalue": "ignored",
          "traceback": [
            "\u001b[0;31m---------------------------------------------------------------------------\u001b[0m",
            "\u001b[0;31mFileExistsError\u001b[0m                           Traceback (most recent call last)",
            "\u001b[0;32m<ipython-input-55-c7b60a4d3fd5>\u001b[0m in \u001b[0;36m<module>\u001b[0;34m\u001b[0m\n\u001b[1;32m      2\u001b[0m \u001b[0;34m\u001b[0m\u001b[0m\n\u001b[1;32m      3\u001b[0m \u001b[0;32mfor\u001b[0m \u001b[0mj\u001b[0m \u001b[0;32min\u001b[0m \u001b[0;34m[\u001b[0m\u001b[0;34m\"train\"\u001b[0m\u001b[0;34m,\u001b[0m\u001b[0;34m\"val\"\u001b[0m\u001b[0;34m]\u001b[0m\u001b[0;34m:\u001b[0m\u001b[0;34m\u001b[0m\u001b[0;34m\u001b[0m\u001b[0m\n\u001b[0;32m----> 4\u001b[0;31m   \u001b[0mos\u001b[0m\u001b[0;34m.\u001b[0m\u001b[0mmkdir\u001b[0m\u001b[0;34m(\u001b[0m\u001b[0;34m\"/content/Youtube_science_channels_dataset/\"\u001b[0m\u001b[0;34m+\u001b[0m\u001b[0mj\u001b[0m\u001b[0;34m)\u001b[0m\u001b[0;34m\u001b[0m\u001b[0;34m\u001b[0m\u001b[0m\n\u001b[0m\u001b[1;32m      5\u001b[0m \u001b[0;34m\u001b[0m\u001b[0m\n\u001b[1;32m      6\u001b[0m \u001b[0;31m# for j in [\"train\",\"val\"]:\u001b[0m\u001b[0;34m\u001b[0m\u001b[0;34m\u001b[0m\u001b[0m\n",
            "\u001b[0;31mFileExistsError\u001b[0m: [Errno 17] File exists: '/content/Youtube_science_channels_dataset/train'"
          ]
        }
      ],
      "source": [
        "import os\n",
        "\n",
        "for j in [\"train\",\"val\"]:\n",
        "  os.mkdir(\"/content/Youtube_science_channels_dataset/\"+j)\n",
        "\n",
        "# for j in [\"train\",\"val\"]:\n",
        "#   for i in ['high', 'very high', 'very low', 'low']:\n",
        "#     os.mkdir(\"/content/Youtube_science_channels_dataset/\"+j+\"/\"+i)\n",
        "\n",
        "for j in [\"train\",\"val\"]:\n",
        "  for i in ['very high', 'very low']:\n",
        "    os.mkdir(\"/content/Youtube_science_channels_dataset/\"+j+\"/\"+i)"
      ]
    },
    {
      "cell_type": "code",
      "execution_count": null,
      "metadata": {
        "id": "5SkCdulL4zUx"
      },
      "outputs": [],
      "source": [
        "trp = \"/content/Youtube_science_channels_dataset/train/\"\n",
        "for i in range(X_train.shape[0]):\n",
        "  a = y_train.iloc[i,0]\n",
        "  if a in ['very high', 'very low']:\n",
        "    b  = X_train.iloc[i,0]+'.jpg'\n",
        "    shutil.copy(\"/content/Youtube_science_channels_dataset/images/\"+b,trp+a)\n",
        "    print(i,end=\"-->\")"
      ]
    },
    {
      "cell_type": "code",
      "execution_count": null,
      "metadata": {
        "id": "imhH4aYSVbAI"
      },
      "outputs": [],
      "source": [
        "len(os.listdir(r\"/content/Youtube_science_channels_dataset/val/very high\"))"
      ]
    },
    {
      "cell_type": "code",
      "execution_count": null,
      "metadata": {
        "id": "xczmfVXqDeic"
      },
      "outputs": [],
      "source": [
        "ttp = r\"/content/Youtube_science_channels_dataset/val/\"\n",
        "for i in range(X_test.shape[0]):\n",
        "    a = y_test.iloc[i,0]\n",
        "    if a in ['very high', 'very low']:\n",
        "      b  = X_test.iloc[i,0]+'.jpg'\n",
        "      shutil.copy(\"/content/Youtube_science_channels_dataset/images/\"+b,ttp+a)"
      ]
    },
    {
      "cell_type": "code",
      "execution_count": null,
      "metadata": {
        "id": "2ASyK936ubpc"
      },
      "outputs": [],
      "source": [
        "try:\n",
        "    im_path = \"img_path\"\n",
        "    image=cv2.imread(img_path)\n",
        "    image = cv2.resize(image,(256,256))\n",
        "    plt.imshow(image)\n",
        "except:\n",
        "    pass"
      ]
    },
    {
      "cell_type": "code",
      "execution_count": null,
      "metadata": {
        "id": "7YpD9JNcD8a2"
      },
      "outputs": [],
      "source": [
        "import cv2\n",
        "image.shape"
      ]
    },
    {
      "cell_type": "code",
      "execution_count": null,
      "metadata": {
        "id": "iC3xjHDSBYhu"
      },
      "outputs": [],
      "source": [
        "# Model Preparation\n",
        "import tensorflow as tf\n",
        "from tensorflow.keras.models import Sequential\n",
        "from tensorflow.keras.callbacks import ModelCheckpoint,EarlyStopping\n",
        "from tensorflow.keras.preprocessing.image import ImageDataGenerator\n",
        "from tensorflow.keras.layers import Dense,Activation,Flatten, Conv2D, MaxPooling2D"
      ]
    },
    {
      "cell_type": "code",
      "execution_count": null,
      "metadata": {
        "id": "r-O9C34_2xca"
      },
      "outputs": [],
      "source": [
        "tdatagen=ImageDataGenerator(rescale=1./255,\n",
        "                                shear_range=0.2,\n",
        "                                zoom_range=0.2,\n",
        "                                horizontal_flip=True,\n",
        "                                vertical_flip=True,\n",
        "                                validation_split=0)\n",
        "\n",
        "tedatagen=ImageDataGenerator(rescale=1./255,\n",
        "                                shear_range=0.2,\n",
        "                                zoom_range=0.2,\n",
        "                                horizontal_flip=True,\n",
        "                                vertical_flip=True,\n",
        "                                validation_split=0)\n",
        "\n",
        "train_datagen=tdatagen.flow_from_directory(r'/content/Youtube_science_channels_dataset/train',\n",
        "                                         target_size=(256,256),\n",
        "                                         batch_size=16,\n",
        "                                         class_mode='categorical',\n",
        "                                         subset='training')\n",
        "\n",
        "val_datagen=tedatagen.flow_from_directory(r'/content/Youtube_science_channels_dataset/val',\n",
        "                                         target_size=(256,256),\n",
        "                                         batch_size=16,\n",
        "                                         class_mode='categorical',\n",
        "                                        subset='training'\n",
        "                                        )"
      ]
    },
    {
      "cell_type": "code",
      "execution_count": null,
      "metadata": {
        "id": "Qz6iiOt_WdLl"
      },
      "outputs": [],
      "source": []
    },
    {
      "cell_type": "code",
      "execution_count": null,
      "metadata": {
        "id": "ITapXEUyCzZ6"
      },
      "outputs": [],
      "source": [
        "model=Sequential()\n",
        "\n",
        "model.add(Conv2D(64,(3,3),activation='relu',padding='same',input_shape=(256,256,3)))\n",
        "model.add(MaxPooling2D(2,2))\n",
        "model.add(Conv2D(64,(3,3),activation='relu',padding='same'))\n",
        "model.add(MaxPooling2D(2,2))\n",
        "model.add(Conv2D(64,(3,3),activation='relu',padding='same'))\n",
        "model.add(MaxPooling2D(2,2))\n",
        "model.add(Conv2D(128,(3,3),activation='relu',padding='same'))\n",
        "model.add(MaxPooling2D(2,2))\n",
        "model.add(Flatten())\n",
        "model.add(Dense(2,activation='softmax'))\n",
        "\n",
        "# Compile the Model\n",
        "model.compile(optimizer=tf.keras.optimizers.Adam(learning_rate=0.001),\n",
        "    loss='categorical_crossentropy',\n",
        "    metrics=['accuracy'])\n",
        "model.summary()"
      ]
    },
    {
      "cell_type": "code",
      "execution_count": null,
      "metadata": {
        "id": "gTLup2O4DJwi"
      },
      "outputs": [],
      "source": [
        "checkpoint=ModelCheckpoint(r'/content/task/Model.h5',\n",
        "                          monitor='val_loss',\n",
        "                          mode='min',\n",
        "                          save_best_only=True,\n",
        "                          verbose=1)\n",
        "earlystop=EarlyStopping(monitor='val_loss',\n",
        "                       min_delta=0,\n",
        "                       patience=10,\n",
        "                       verbose=1,\n",
        "                       restore_best_weights=True)\n",
        "\n",
        "callbacks=[checkpoint,earlystop]"
      ]
    },
    {
      "cell_type": "code",
      "execution_count": null,
      "metadata": {
        "id": "QRKy5tbIDNWS"
      },
      "outputs": [],
      "source": [
        "model_history=model.fit(train_datagen,validation_data=val_datagen,\n",
        "                        epochs=15,\n",
        "                        steps_per_epoch=train_datagen.samples//16,\n",
        "                        validation_steps=val_datagen.samples//16,\n",
        "                        callbacks=callbacks)"
      ]
    },
    {
      "cell_type": "code",
      "execution_count": null,
      "metadata": {
        "id": "ups2Xz7VDX6H"
      },
      "outputs": [],
      "source": [
        "# plot the loss\n",
        "plt.plot(model_history.history['loss'], label='train loss')\n",
        "plt.plot(model_history.history['val_loss'], label='val loss')\n",
        "plt.legend()\n",
        "plt.show()\n",
        "plt.savefig('LossVal_loss')\n",
        "\n",
        "# plot the accuracy\n",
        "plt.plot(model_history.history['accuracy'], label='train acc')\n",
        "plt.plot(model_history.history['val_accuracy'], label='val acc')\n",
        "plt.legend()\n",
        "plt.show()\n",
        "plt.savefig('AccVal_acc')"
      ]
    },
    {
      "cell_type": "code",
      "execution_count": null,
      "metadata": {
        "id": "8om3JFLZCFWd"
      },
      "outputs": [],
      "source": [
        "# plot the loss\n",
        "import matplotlib.pyplot as plt\n",
        "plt.plot(model_history.history['loss'], label='train loss')\n",
        "plt.plot(model_history.history['val_loss'], label='val loss')\n",
        "plt.legend()\n",
        "plt.show()\n",
        "plt.savefig('LossVal_loss')\n",
        "\n",
        "# plot the accuracy\n",
        "plt.plot(model_history.history['accuracy'], label='train acc')\n",
        "plt.plot(model_history.history['val_accuracy'], label='val acc')\n",
        "plt.legend()\n",
        "plt.show()\n",
        "plt.savefig('AccVal_acc')"
      ]
    },
    {
      "cell_type": "code",
      "execution_count": null,
      "metadata": {
        "id": "lxMdQ7M1BA8q"
      },
      "outputs": [],
      "source": [
        "import pickle\n",
        "pickle.dump(model,open('low_high.pkl','wb'))"
      ]
    },
    {
      "cell_type": "code",
      "execution_count": null,
      "metadata": {
        "id": "HyVwmCPYB76Y"
      },
      "outputs": [],
      "source": [
        "val_igm = list(X_test.id_video)"
      ]
    },
    {
      "cell_type": "code",
      "execution_count": null,
      "metadata": {
        "id": "ubU8RtnUD1Zt"
      },
      "outputs": [],
      "source": [
        "from tensorflow.keras.preprocessing import image\n",
        "\n",
        "model_prediction = []\n",
        "output = []\n",
        "all_img_name = []\n",
        "\n",
        "cl = [\"very high\",\"very low\"]\n",
        "for j in [\"very high\",\"very low\"]:\n",
        "  pa = \"/content/Youtube_science_channels_dataset/val/\"+j\n",
        "  all_name = os.listdir(pa)\n",
        "  for i in all_name:\n",
        "    test_image=\"/content/Youtube_science_channels_dataset/val/\"+j+\"/\"+i\n",
        "    image_result=Image.open(test_image)\n",
        "    test_image=image.load_img(test_image,target_size=(256,256))\n",
        "    test_image=image.img_to_array(test_image)\n",
        "    test_image=test_image/255\n",
        "    test_image=np.expand_dims(test_image,axis=0)\n",
        "    result=model.predict(test_image)\n",
        "    model_prediction.append(result)\n",
        "    output.append(cl[np.argmax(result)])\n",
        "    all_img_name.append(i)\n",
        "    # print(j,\"-->\",np.argmax(result))"
      ]
    },
    {
      "cell_type": "code",
      "execution_count": null,
      "metadata": {
        "id": "OdBpcRtfEE7E"
      },
      "outputs": [],
      "source": [
        "for i in range(len(all_img_name)):\n",
        "  all_img_name[i] = all_img_name[i].split(\".\")[0]\n",
        "\n",
        "df = pd.DataFrame({\"id_video\":all_img_name,\"model_predicted\":output})\n",
        "df2 = data[[\"id_video\",\"qtl\"]]\n",
        "df2.columns = [\"id_video\",\"Actual\"]\n",
        "df[\"model_predicted\"] = df.model_predicted.replace([0,1],[\"very high\",\"very low\"])\n",
        "final = df2.merge(df,on=\"id_video\",how=\"inner\")\n",
        "final.shape"
      ]
    },
    {
      "cell_type": "code",
      "execution_count": null,
      "metadata": {
        "id": "fB37TEKFEoe_"
      },
      "outputs": [],
      "source": [
        "from sklearn.metrics import accuracy_score,f1_score,confusion_matrix,recall_score,precision_score\n",
        "import seaborn as sns"
      ]
    },
    {
      "cell_type": "code",
      "execution_count": null,
      "metadata": {
        "id": "a58U2DbYOywR"
      },
      "outputs": [],
      "source": [
        "confusion_matrix(final[\"Actual\"],final[\"model_predicted\"])"
      ]
    },
    {
      "cell_type": "code",
      "execution_count": null,
      "metadata": {
        "id": "MMT-TpCKO0oS"
      },
      "outputs": [],
      "source": [
        "sns.heatmap(confusion_matrix(final[\"Actual\"],final[\"model_predicted\"]),annot=True)"
      ]
    },
    {
      "cell_type": "code",
      "execution_count": null,
      "metadata": {
        "id": "tZdlweETO2rR"
      },
      "outputs": [],
      "source": [
        "print(\"accuracy_score\",accuracy_score(final[\"Actual\"],final[\"model_predicted\"]))\n",
        "print(\"f1_score:\",f1_score(final[\"Actual\"],final[\"model_predicted\"],average=\"weighted\"))\n",
        "print(\"recall_score:\",recall_score(final[\"Actual\"],final[\"model_predicted\"],average=\"weighted\"))\n",
        "print(\"precision_score\",precision_score(final[\"Actual\"],final[\"model_predicted\"],average=\"weighted\"))"
      ]
    }
  ],
  "metadata": {
    "colab": {
      "provenance": [],
      "include_colab_link": true
    },
    "kernelspec": {
      "display_name": "Python 3",
      "name": "python3"
    },
    "language_info": {
      "name": "python"
    },
    "accelerator": "GPU",
    "gpuClass": "standard"
  },
  "nbformat": 4,
  "nbformat_minor": 0
}